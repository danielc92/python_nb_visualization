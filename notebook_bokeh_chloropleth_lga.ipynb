{
 "cells": [
  {
   "cell_type": "markdown",
   "metadata": {},
   "source": [
    "## Bokeh Chloropleth\n",
    "- Using .json file created from ESRI ABS shapefiles"
   ]
  },
  {
   "cell_type": "markdown",
   "metadata": {},
   "source": [
    "# Working Example No multi polygon"
   ]
  },
  {
   "cell_type": "raw",
   "metadata": {},
   "source": [
    "shape_path = \"/users/danielcorcoran/desktop/lga_esri_16/lga16vic_simplified/lga_vic_16_simplified.shp\"\n",
    "\n",
    "import fiona \n",
    "shp = fiona.open(shape_path)\n",
    "\n",
    "district_name = [ feat[\"properties\"][\"LGA_NAME16\"] for feat in shp if feat['geometry'] is not None]\n",
    "district_area = [ feat[\"properties\"][\"AREASQKM16\"] for feat in shp if feat['geometry'] is not None]\n",
    "lga_x = [ [x[0] for x in feat[\"geometry\"][\"coordinates\"][0]] for feat in shp if feat['geometry'] is not None]\n",
    "lga_y = [ [y[1] for y in feat[\"geometry\"][\"coordinates\"][0]] for feat in shp if feat['geometry'] is not None]\n",
    "\n",
    "\n",
    "\n",
    "''' Imports '''\n",
    "import bokeh\n",
    "from bokeh.plotting import figure, show, output_file\n",
    "import numpy\n",
    "from bokeh.models import HoverTool, ColumnDataSource,LogColorMapper\n",
    "\n",
    "\n",
    "''' Tools '''\n",
    "TOOLS = \"pan,wheel_zoom,box_zoom,reset,hover,save\"\n",
    "\n",
    "\n",
    "''' Data '''\n",
    "possible_colours = ['#edf8fb','#b3cde3','#8c96c6','#8856a7','#810f7c']\n",
    "possible_categories = ['very low', 'low', 'medium', 'high', 'very high']\n",
    "test_colors = []\n",
    "test_categories = []\n",
    "\n",
    "for n in range(len(lga_x)):\n",
    "    random_index = numpy.random.randint(0, len(possible_colours))\n",
    "    test_colors.append(possible_colours[random_index])\n",
    "    test_categories.append(possible_categories[random_index])\n",
    "    \n",
    "color_map = LogColorMapper(palette = possible_colours)\n",
    "\n",
    "random_value1 = [numpy.random.uniform(0,10) for n in range(len(lga_x))]    \n",
    "random_value2 = [numpy.random.uniform(123,549) for n in range(len(lga_x))]\n",
    "\n",
    "source = ColumnDataSource(\n",
    "    data=dict(x=lga_x, \n",
    "              y=lga_y,\n",
    "             value1 = random_value1,\n",
    "             value2 = random_value2,\n",
    "             lganame = district_name,\n",
    "             lgaarea = district_area,\n",
    "             colourcode = test_colors,\n",
    "             categories = test_categories))\n",
    "\n",
    "\n",
    "''' Create figure '''\n",
    "p = figure(\n",
    "    title=\"Local Government Areas (2016) Bokeh Plot\",\n",
    "    toolbar_location=\"right\",\n",
    "    plot_width=1100,\n",
    "    plot_height=800,\n",
    "    tools=TOOLS)\n",
    "\n",
    "\n",
    "''' Patches '''\n",
    "p.patches(\n",
    "    'x',\n",
    "    'y',\n",
    "    source=source,\n",
    "    fill_alpha=1,\n",
    "    fill_color = 'colourcode',\n",
    "    #fill_color={'field': 'value1', 'transform': color_map},\n",
    "    line_color = 'white', \n",
    "    line_width = 0.2,\n",
    "legend = 'categories')\n",
    "\n",
    "\n",
    "''' Remove grid lines '''\n",
    "p.xgrid.grid_line_color = None\n",
    "p.ygrid.grid_line_color = None\n",
    "p.legend.location = \"top_right\"\n",
    "\n",
    "\n",
    "''' Set Hover Tool '''\n",
    "hover = p.select_one(HoverTool)\n",
    "hover.point_policy = \"follow_mouse\"\n",
    "hover.tooltips = [('Value 1', '@value1'),\n",
    "                  ('Value 2','@value2'),\n",
    "                  ('Longitude, Latitude', '$x,$y'),\n",
    "                 ('LGA Name', '@lganame'),\n",
    "                 ('LGA Area', '@lgaarea')]\n",
    "\n",
    "\n",
    "''' Output file optional'''\n",
    "#output_file(\"choropleth.html\", title=\"choropleth.py example\")\n",
    "\n",
    "\n",
    "show(p)"
   ]
  },
  {
   "cell_type": "markdown",
   "metadata": {},
   "source": [
    "# Transform data beforehand"
   ]
  },
  {
   "cell_type": "code",
   "execution_count": 6,
   "metadata": {},
   "outputs": [
    {
     "name": "stdout",
     "output_type": "stream",
     "text": [
      "<class 'str'> type of test data\n",
      "<class 'str'>\n"
     ]
    }
   ],
   "source": [
    "import numpy\n",
    "\n",
    "jsonpath = '/users/danielcorcoran/desktop/lga_esri_16/LGA16_SIMPLIFIED2.json'\n",
    "\n",
    "with open(jsonpath,'r') as f:\n",
    "    test_data = f.read()\n",
    "\n",
    "print(type(test_data), \"type of test data\")\n",
    "test_data2 = json.loads(test_data)\n",
    "\n",
    "features = test_data2['features']\n",
    "\n",
    "cols = ['#edf8fb','#b3cde3','#8c96c6','#8856a7','#810f7c']\n",
    "\n",
    "for crap in features:\n",
    "    something_random = numpy.random.randint(0, len(cols))\n",
    "    crap['properties']['some_metric'] = (something_random + 1) * 12\n",
    "    crap['properties']['colour_code'] = cols[something_random] \n",
    "    \n",
    "test_data2['features'] = features\n",
    "\n",
    "data = json.dumps(test_data2)\n",
    "\n",
    "print(type(data))"
   ]
  },
  {
   "cell_type": "code",
   "execution_count": 10,
   "metadata": {},
   "outputs": [
    {
     "name": "stderr",
     "output_type": "stream",
     "text": [
      "WARNING:bokeh.io.export:The webdriver raised a TimeoutException while waiting for                      a 'bokeh:idle' event to signify that the layout has rendered.                      Something may have gone wrong.\n"
     ]
    },
    {
     "data": {
      "text/plain": [
       "['plot.svg']"
      ]
     },
     "execution_count": 10,
     "metadata": {},
     "output_type": "execute_result"
    }
   ],
   "source": [
    "from bokeh.io import show, output_notebook, output_file\n",
    "from bokeh.plotting import figure\n",
    "from bokeh.models import (\n",
    "    GeoJSONDataSource,\n",
    "    HoverTool,\n",
    "    LinearColorMapper\n",
    ")\n",
    "\n",
    "# with open('/users/danielcorcoran/desktop/lga_esri_16/LGA16_SIMPLIFIED.geojson', 'r') as f:\n",
    "#     geo_source = GeoJSONDataSource(geojson=f.read())\n",
    "with open('/users/danielcorcoran/desktop/lga_esri_16/LGA16_SIMPLIFIED.geojson', 'r') as f:\n",
    "    geo_source = GeoJSONDataSource(geojson = data)\n",
    "\n",
    "TOOLS = \"pan,wheel_zoom,box_zoom,reset,hover,save\"\n",
    "\n",
    "p = figure(\n",
    "    title=\"Title\",\n",
    "    tools=TOOLS,\n",
    "    x_axis_location=None,\n",
    "    y_axis_location=None,\n",
    "    width=1200,\n",
    "    height=800)\n",
    "\n",
    "p.grid.grid_line_color = None\n",
    "\n",
    "p.patches(\n",
    "    'xs',\n",
    "    'ys',\n",
    "    fill_alpha=1,\n",
    "    fill_color='colour_code',\n",
    "    line_color='white',\n",
    "    line_width=0.5,\n",
    "    source=geo_source)\n",
    "\n",
    "hover = p.select_one(HoverTool)\n",
    "# hover.point_policy = \"follow_mouse\"\n",
    "hover.tooltips = [(\"LGA NAME\", \"@LGA_NAME16\"), (\"LGA CODE\", \"@LGA_CODE16\"),\n",
    "                  (\"LGA SQKM\", \"@AREASQKM16\"), (\"SOME METRIC\", \"@some_metric\")]\n",
    "\n",
    "show(p)\n",
    "\n",
    "from bokeh.io import export_svgs\n",
    "p.output_backend = \"svg\"\n",
    "export_svgs(p, filename=\"plot.svg\")\n"
   ]
  },
  {
   "cell_type": "code",
   "execution_count": null,
   "metadata": {},
   "outputs": [],
   "source": []
  }
 ],
 "metadata": {
  "kernelspec": {
   "display_name": "Python 3",
   "language": "python",
   "name": "python3"
  },
  "toc": {
   "base_numbering": 1,
   "nav_menu": {},
   "number_sections": true,
   "sideBar": true,
   "skip_h1_title": false,
   "title_cell": "Table of Contents",
   "title_sidebar": "Contents",
   "toc_cell": false,
   "toc_position": {},
   "toc_section_display": true,
   "toc_window_display": false
  },
  "varInspector": {
   "cols": {
    "lenName": 16,
    "lenType": 16,
    "lenVar": 40
   },
   "kernels_config": {
    "python": {
     "delete_cmd_postfix": "",
     "delete_cmd_prefix": "del ",
     "library": "var_list.py",
     "varRefreshCmd": "print(var_dic_list())"
    },
    "r": {
     "delete_cmd_postfix": ") ",
     "delete_cmd_prefix": "rm(",
     "library": "var_list.r",
     "varRefreshCmd": "cat(var_dic_list()) "
    }
   },
   "types_to_exclude": [
    "module",
    "function",
    "builtin_function_or_method",
    "instance",
    "_Feature"
   ],
   "window_display": false
  }
 },
 "nbformat": 4,
 "nbformat_minor": 2
}

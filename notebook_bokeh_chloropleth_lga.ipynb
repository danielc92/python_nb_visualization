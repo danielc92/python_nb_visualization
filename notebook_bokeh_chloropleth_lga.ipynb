{
 "cells": [
  {
   "cell_type": "markdown",
   "metadata": {},
   "source": [
    "## Bokeh Chloropleth\n",
    "- Using .json file created from ESRI ABS shapefiles"
   ]
  },
  {
   "cell_type": "code",
   "execution_count": 1,
   "metadata": {},
   "outputs": [],
   "source": [
    "shape_path = \"/users/danielcorcoran/desktop/lga_esri_16/lga16vic_simplified/lga_vic_16_simplified.shp\""
   ]
  },
  {
   "cell_type": "code",
   "execution_count": 2,
   "metadata": {},
   "outputs": [],
   "source": [
    "import fiona \n",
    "shp = fiona.open(shape_path)"
   ]
  },
  {
   "cell_type": "code",
   "execution_count": 3,
   "metadata": {},
   "outputs": [],
   "source": [
    "# Extract features from shapefile\n",
    "district_name = [ feat[\"properties\"][\"LGA_NAME16\"] for feat in shp if feat['geometry'] is not None]\n",
    "district_area = [ feat[\"properties\"][\"AREASQKM16\"] for feat in shp if feat['geometry'] is not None]\n",
    "district_x = [ [x[0] for x in feat[\"geometry\"][\"coordinates\"][0]] for feat in shp if feat['geometry'] is not None]\n",
    "district_y = [ [y[1] for y in feat[\"geometry\"][\"coordinates\"][0]] for feat in shp if feat['geometry'] is not None]"
   ]
  },
  {
   "cell_type": "code",
   "execution_count": 31,
   "metadata": {},
   "outputs": [],
   "source": [
    "import bokeh\n",
    "from bokeh.plotting import figure, show, output_file\n",
    "import numpy\n",
    "from bokeh.models import HoverTool\n",
    "\n",
    "TOOLS = \"pan,wheel_zoom,reset,hover,save\"\n",
    "\n",
    "possible_colours = ['#ffffcc','#a1dab4','#41b6c4','#2c7fb8','#253494']\n",
    "colours = [possible_colours[numpy.random.randint(0,4)] for n in range(len(district_x))]\n",
    "p = figure(\n",
    "    \n",
    "    title=\"Local Government Areas (2016) Bokeh Plot\",\n",
    "    toolbar_location=\"right\",\n",
    "    \n",
    "    plot_width=1100,\n",
    "    plot_height=800,\n",
    "    tools = TOOLS\n",
    "    \n",
    "#     x_axis_location=None,\n",
    "#     y_axis_location=None\n",
    ")\n",
    "\n",
    "p.patches(\n",
    "    district_x, \n",
    "    district_y,\n",
    "    fill_alpha=1, \n",
    "    line_color=\"white\", \n",
    "    line_width=1,\n",
    "    fill_color = colours\n",
    "    )\n",
    "hover = p.select_one(HoverTool)\n",
    "hover.point_policy = \"follow_mouse\"\n",
    "hover.tooltips = [('this','@district_x'), ('Longitude, Latitude', '$x,$y')]\n",
    "\n",
    "#output_file(\"choropleth.html\", title=\"choropleth.py example\")\n",
    "\n",
    "show(p)"
   ]
  },
  {
   "cell_type": "code",
   "execution_count": null,
   "metadata": {},
   "outputs": [],
   "source": [
    "for i,name in enumerate(shp):\n",
    "    print(i)\n",
    "    print(name['properties']['LGA_NAME16'])"
   ]
  },
  {
   "cell_type": "code",
   "execution_count": null,
   "metadata": {},
   "outputs": [],
   "source": [
    "from bokeh.io import show, output_notebook, output_file\n",
    "from bokeh.models import (\n",
    "    GeoJSONDataSource,\n",
    "    HoverTool,\n",
    "    LinearColorMapper\n",
    ")\n",
    "from bokeh.plotting import figure\n",
    "from bokeh.palettes import Viridis6\n",
    "\n",
    "with open('/users/danielcorcoran/desktop/LGA16_SIMPLIFIED.geojson', 'r') as f:\n",
    "    geo_source = GeoJSONDataSource(geojson=f.read())\n",
    "\n",
    "color_mapper = LinearColorMapper(palette=Viridis6)\n",
    "\n",
    "TOOLS = \"pan,wheel_zoom,box_zoom,reset,hover,save\"\n",
    "\n",
    "p = figure(title=\"Title\", tools=TOOLS, x_axis_location=None, y_axis_location=None, width=1200, height=800)\n",
    "p.grid.grid_line_color = None\n",
    "\n",
    "p.patches('xs', 'ys', fill_alpha=0.7, fill_color={'field': 'objectid', 'transform': color_mapper}, \n",
    "          line_color='white', line_width=0.5, source=geo_source)\n",
    "\n",
    "\n",
    "# hover = p.select_one(HoverTool)\n",
    "# hover.point_policy = \"follow_mouse\"\n",
    "# hover.tooltips = [(\"Provincia:\", \"@provincia\")]\n",
    "\n",
    "# output_file(\"PBIar.html\", title=\"Testing islands in bokeh\")\n",
    "\n",
    "show(p)"
   ]
  },
  {
   "cell_type": "code",
   "execution_count": null,
   "metadata": {},
   "outputs": [],
   "source": []
  }
 ],
 "metadata": {
  "kernelspec": {
   "display_name": "Python 3",
   "language": "python",
   "name": "python3"
  },
  "language_info": {
   "codemirror_mode": {
    "name": "ipython",
    "version": 3
   },
   "file_extension": ".py",
   "mimetype": "text/x-python",
   "name": "python",
   "nbconvert_exporter": "python",
   "pygments_lexer": "ipython3",
   "version": "3.6.5"
  },
  "toc": {
   "base_numbering": 1,
   "nav_menu": {},
   "number_sections": true,
   "sideBar": true,
   "skip_h1_title": false,
   "title_cell": "Table of Contents",
   "title_sidebar": "Contents",
   "toc_cell": false,
   "toc_position": {},
   "toc_section_display": true,
   "toc_window_display": false
  },
  "varInspector": {
   "cols": {
    "lenName": 16,
    "lenType": 16,
    "lenVar": 40
   },
   "kernels_config": {
    "python": {
     "delete_cmd_postfix": "",
     "delete_cmd_prefix": "del ",
     "library": "var_list.py",
     "varRefreshCmd": "print(var_dic_list())"
    },
    "r": {
     "delete_cmd_postfix": ") ",
     "delete_cmd_prefix": "rm(",
     "library": "var_list.r",
     "varRefreshCmd": "cat(var_dic_list()) "
    }
   },
   "types_to_exclude": [
    "module",
    "function",
    "builtin_function_or_method",
    "instance",
    "_Feature"
   ],
   "window_display": false
  }
 },
 "nbformat": 4,
 "nbformat_minor": 2
}

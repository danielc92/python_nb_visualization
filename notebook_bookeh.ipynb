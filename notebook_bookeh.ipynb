{
 "cells": [
  {
   "cell_type": "code",
   "execution_count": 2,
   "metadata": {},
   "outputs": [],
   "source": [
    "from bokeh.plotting import figure\n",
    "from bokeh.io import output_file, show\n",
    "from bokeh.models import HoverTool\n",
    "import math\n",
    "import io"
   ]
  },
  {
   "cell_type": "code",
   "execution_count": 3,
   "metadata": {},
   "outputs": [],
   "source": [
    "x = [-50,-40,-20,-10,-15,-30,-12,-14,-20,1,2,2,2,1,3,3.5,4,5,6,4,5,5.5,5.2,5.1,4.2,4.1,4,10,12,13,14,15,16,17,19,19,20,20,20,21,22,25,26]\n",
    "x = sorted(x)\n",
    "y = []\n",
    "beta = .15"
   ]
  },
  {
   "cell_type": "code",
   "execution_count": 4,
   "metadata": {},
   "outputs": [
    {
     "data": {
      "text/plain": [
       "[0.0005527786369235998,\n",
       " 0.002472623156634775,\n",
       " 0.010986942630593181,\n",
       " 0.04742587317756679,\n",
       " 0.04742587317756679,\n",
       " 0.0953494648991095,\n",
       " 0.10909682119561294,\n",
       " 0.14185106490048782,\n",
       " 0.18242552380635635,\n",
       " 0.5374298453437496,\n",
       " 0.5374298453437496,\n",
       " 0.574442516811659,\n",
       " 0.574442516811659,\n",
       " 0.574442516811659,\n",
       " 0.610639233949222,\n",
       " 0.6283161882953663,\n",
       " 0.6456563062257954,\n",
       " 0.6456563062257954,\n",
       " 0.6456563062257954,\n",
       " 0.6490805242445733,\n",
       " 0.6524894621927444,\n",
       " 0.679178699175393,\n",
       " 0.679178699175393,\n",
       " 0.6824383021930648,\n",
       " 0.6856801139382539,\n",
       " 0.6952966693475653,\n",
       " 0.7109495026250039,\n",
       " 0.8175744761936437,\n",
       " 0.8581489350995121,\n",
       " 0.8754466418125836,\n",
       " 0.8909031788043871,\n",
       " 0.9046505351008904,\n",
       " 0.9168273035060777,\n",
       " 0.9275735146384823,\n",
       " 0.9453186827840592,\n",
       " 0.9453186827840592,\n",
       " 0.9525741268224331,\n",
       " 0.9525741268224331,\n",
       " 0.9525741268224331,\n",
       " 0.958908721799535,\n",
       " 0.9644288107273639,\n",
       " 0.9770226300899744,\n",
       " 0.9801596942659225]"
      ]
     },
     "execution_count": 4,
     "metadata": {},
     "output_type": "execute_result"
    }
   ],
   "source": [
    "for number in x:\n",
    "    z = 1/(1 + math.exp(1)**(-number*beta))\n",
    "    y.append(z)\n",
    "y"
   ]
  },
  {
   "cell_type": "code",
   "execution_count": 5,
   "metadata": {},
   "outputs": [],
   "source": [
    "p = figure(title = \"The Best School\", x_axis_label = 'Hours Studied', y_axis_label = 'Grade Results')"
   ]
  },
  {
   "cell_type": "code",
   "execution_count": 6,
   "metadata": {},
   "outputs": [],
   "source": [
    "p.line(x, y, legend = \"legend\", line_width = 4)\n",
    "#create tool object\n",
    "hover = HoverTool(tooltips = [('(x)','($x)'),('(y)','($y)')], mode = 'vline')\n",
    "\n",
    "p.add_tools(hover)\n",
    "\n",
    "output_file(\"lines.html\")\n",
    "\n",
    "#render\n",
    "show(p)"
   ]
  },
  {
   "cell_type": "code",
   "execution_count": null,
   "metadata": {},
   "outputs": [],
   "source": []
  }
 ],
 "metadata": {
  "kernelspec": {
   "display_name": "Python 3",
   "language": "python",
   "name": "python3"
  },
  "language_info": {
   "codemirror_mode": {
    "name": "ipython",
    "version": 3
   },
   "file_extension": ".py",
   "mimetype": "text/x-python",
   "name": "python",
   "nbconvert_exporter": "python",
   "pygments_lexer": "ipython3",
   "version": "3.6.5"
  },
  "toc": {
   "base_numbering": 1,
   "nav_menu": {},
   "number_sections": true,
   "sideBar": true,
   "skip_h1_title": false,
   "title_cell": "Table of Contents",
   "title_sidebar": "Contents",
   "toc_cell": false,
   "toc_position": {},
   "toc_section_display": true,
   "toc_window_display": false
  },
  "varInspector": {
   "cols": {
    "lenName": 16,
    "lenType": 16,
    "lenVar": 40
   },
   "kernels_config": {
    "python": {
     "delete_cmd_postfix": "",
     "delete_cmd_prefix": "del ",
     "library": "var_list.py",
     "varRefreshCmd": "print(var_dic_list())"
    },
    "r": {
     "delete_cmd_postfix": ") ",
     "delete_cmd_prefix": "rm(",
     "library": "var_list.r",
     "varRefreshCmd": "cat(var_dic_list()) "
    }
   },
   "types_to_exclude": [
    "module",
    "function",
    "builtin_function_or_method",
    "instance",
    "_Feature"
   ],
   "window_display": false
  }
 },
 "nbformat": 4,
 "nbformat_minor": 1
}
